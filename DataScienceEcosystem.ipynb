{
 "cells": [
  {
   "cell_type": "markdown",
   "id": "fc897a9b-b42e-457b-86db-7d50741dd984",
   "metadata": {
    "tags": []
   },
   "source": [
    "# H1: Data Science Tools and Ecosystem"
   ]
  },
  {
   "cell_type": "markdown",
   "id": "516695e1-feaf-4f69-9109-b39aa2463aeb",
   "metadata": {
    "tags": []
   },
   "source": [
    "# H1: In this notebook, Data Science Tools and Ecosystem are summarized."
   ]
  },
  {
   "cell_type": "markdown",
   "id": "cebdd1c0-24b7-4315-b8bb-e7819ba0a000",
   "metadata": {
    "tags": []
   },
   "source": [
    "# ***Objectives***\n",
    "- List popular languages for Data Science\n",
    "- List popular libraries for Data Science\n",
    "- List popular tools for Data Science\n",
    "- Simple arithmetic"
   ]
  },
  {
   "cell_type": "markdown",
   "id": "64996126-f526-4f78-b3a0-b43241870399",
   "metadata": {
    "tags": []
   },
   "source": [
    "# H1: Some of the popular languages that Data Scientists use are:"
   ]
  },
  {
   "cell_type": "markdown",
   "id": "b922bb27-472b-49b4-aee3-67182bdb5a17",
   "metadata": {
    "tags": []
   },
   "source": [
    "1. Python\n",
    "2. Java\n",
    "3. R"
   ]
  },
  {
   "cell_type": "markdown",
   "id": "803a12cc-01bc-40e2-8aa7-e0f58339fed5",
   "metadata": {},
   "source": [
    "# H1: Some of the commonly used libraries used by Data Scientists include:"
   ]
  },
  {
   "cell_type": "markdown",
   "id": "57f35784-5727-450d-bf58-febd51f21647",
   "metadata": {
    "tags": []
   },
   "source": [
    "1. Pandas\n",
    "2. NumPy\n",
    "3. PyTorch"
   ]
  },
  {
   "cell_type": "markdown",
   "id": "9d1d3689-a0dc-4688-b4a6-f218b633a100",
   "metadata": {
    "tags": []
   },
   "source": [
    "# H1: Data Science Tools"
   ]
  },
  {
   "cell_type": "markdown",
   "id": "78a44024-d178-466a-b06a-643741f74175",
   "metadata": {},
   "source": [
    "| Data Science Tools |\n",
    "|--------------------|\n",
    "| Apache Spark |\n",
    "| Matplotlib |\n",
    "| TensorFlow |"
   ]
  },
  {
   "cell_type": "markdown",
   "id": "6876c21a-d88e-4522-89e8-b0d01c6ef9a3",
   "metadata": {
    "tags": []
   },
   "source": [
    "### H3: Below are a few examples of evaluating arithmetic expressions in Python"
   ]
  },
  {
   "cell_type": "code",
   "execution_count": 4,
   "id": "6cd55dd5-b003-4a28-91b0-871a1bec7f3b",
   "metadata": {
    "tags": []
   },
   "outputs": [
    {
     "data": {
      "text/plain": [
       "17"
      ]
     },
     "execution_count": 4,
     "metadata": {},
     "output_type": "execute_result"
    }
   ],
   "source": [
    "# This a simple arithmetic expression to mutiply then add integers\n",
    "(3*4)+5"
   ]
  },
  {
   "cell_type": "code",
   "execution_count": 6,
   "id": "f233f1b8-7377-455d-9da3-1633a66559f9",
   "metadata": {
    "tags": []
   },
   "outputs": [
    {
     "data": {
      "text/plain": [
       "3.3333333333333335"
      ]
     },
     "execution_count": 6,
     "metadata": {},
     "output_type": "execute_result"
    }
   ],
   "source": [
    "# This will convert 200 minutes to hours by diving by 60\n",
    "200/60"
   ]
  },
  {
   "cell_type": "markdown",
   "id": "8c19e637-e9df-4ce9-a191-55f8898e1340",
   "metadata": {},
   "source": [
    "# H2: Author\n",
    "Christian Britton"
   ]
  },
  {
   "cell_type": "code",
   "execution_count": null,
   "id": "cd23b760-4e06-400b-8993-2e91118616aa",
   "metadata": {},
   "outputs": [],
   "source": []
  }
 ],
 "metadata": {
  "kernelspec": {
   "display_name": "Python",
   "language": "python",
   "name": "conda-env-python-py"
  },
  "language_info": {
   "codemirror_mode": {
    "name": "ipython",
    "version": 3
   },
   "file_extension": ".py",
   "mimetype": "text/x-python",
   "name": "python",
   "nbconvert_exporter": "python",
   "pygments_lexer": "ipython3",
   "version": "3.7.12"
  }
 },
 "nbformat": 4,
 "nbformat_minor": 5
}
